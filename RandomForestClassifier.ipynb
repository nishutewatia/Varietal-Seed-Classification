{
 "cells": [
  {
   "cell_type": "markdown",
   "metadata": {},
   "source": [
    "# Models for final dataset"
   ]
  },
  {
   "cell_type": "code",
   "execution_count": 48,
   "metadata": {},
   "outputs": [],
   "source": [
    "import pandas as pd\n",
    "Spatial_data=pd.read_excel('Spatial_data.xlsx')\n",
    "\n",
    "import ast\n",
    "X_spatial=[]\n",
    "for i in range(90):\n",
    "    for j in range(96):\n",
    "        X_spatial.append(ast.literal_eval(Spatial_data.T[i][j]))"
   ]
  },
  {
   "cell_type": "code",
   "execution_count": 122,
   "metadata": {},
   "outputs": [
    {
     "data": {
      "text/plain": [
       "8640"
      ]
     },
     "execution_count": 122,
     "metadata": {},
     "output_type": "execute_result"
    }
   ],
   "source": [
    "Spectral_data=pd.read_excel('Spectral_data.xlsx')\n",
    "X_spectral=[]\n",
    "for i in range(90):\n",
    "    for j in range(96):\n",
    "        X_spectral.append(ast.literal_eval(Spectral_data.T[i][j]))\n",
    "len(X_spectral)"
   ]
  },
  {
   "cell_type": "code",
   "execution_count": 50,
   "metadata": {},
   "outputs": [],
   "source": [
    "import pysptools\n",
    "from pysptools import spectro"
   ]
  },
  {
   "cell_type": "code",
   "execution_count": 123,
   "metadata": {},
   "outputs": [],
   "source": [
    "for i in range(len(X_spectral)):\n",
    "    pysptools.spectro.convex_hull_removal(X_spectral[i], wavelengths)"
   ]
  },
  {
   "cell_type": "code",
   "execution_count": 9,
   "metadata": {},
   "outputs": [
    {
     "data": {
      "text/plain": [
       "8640"
      ]
     },
     "execution_count": 9,
     "metadata": {},
     "output_type": "execute_result"
    }
   ],
   "source": [
    "Y=[]\n",
    "for i in range(90):\n",
    "    for j in range(96):\n",
    "        Y.append(i)\n",
    "len(Y)"
   ]
  },
  {
   "cell_type": "code",
   "execution_count": 105,
   "metadata": {},
   "outputs": [],
   "source": [
    "from sklearn.preprocessing import LabelBinarizer\n",
    "y_dense = LabelBinarizer().fit_transform(Y)"
   ]
  },
  {
   "cell_type": "markdown",
   "metadata": {},
   "source": [
    "*Normalization*"
   ]
  },
  {
   "cell_type": "markdown",
   "metadata": {},
   "source": [
    "*MSC*"
   ]
  },
  {
   "cell_type": "code",
   "execution_count": 8,
   "metadata": {},
   "outputs": [],
   "source": [
    "def msc(input_data, reference=None):\n",
    "    ''' Perform Multiplicative scatter correction'''\n",
    " \n",
    "    # mean centre correction\n",
    "    for i in range(input_data.shape[0]):\n",
    "        input_data[i,:] -= input_data[i,:].mean()\n",
    " \n",
    "    # Get the reference spectrum. If not given, estimate it from the mean    \n",
    "    if reference is None:    \n",
    "        # Calculate mean\n",
    "        ref = np.mean(input_data, axis=0)\n",
    "    else:\n",
    "        ref = reference\n",
    " \n",
    "    # Define a new array and populate it with the corrected data    \n",
    "    data_msc = np.zeros_like(input_data)\n",
    "    for i in range(input_data.shape[0]):\n",
    "        # Run regression\n",
    "        fit = np.polyfit(ref, input_data[i,:], 1, full=True)\n",
    "        # Apply correction\n",
    "        data_msc[i,:] = (input_data[i,:] - fit[0][1]) / fit[0][0]\n",
    " \n",
    "    return (data_msc, ref)"
   ]
  },
  {
   "cell_type": "code",
   "execution_count": 9,
   "metadata": {},
   "outputs": [],
   "source": [
    "X_spectral=msc(np.array(X_spectral))[0]"
   ]
  },
  {
   "cell_type": "markdown",
   "metadata": {},
   "source": [
    "*LDA*"
   ]
  },
  {
   "cell_type": "code",
   "execution_count": 124,
   "metadata": {},
   "outputs": [],
   "source": [
    "from sklearn.discriminant_analysis import LinearDiscriminantAnalysis as LDA\n",
    "lda = LDA(n_components=80)\n",
    "X_spectral = lda.fit_transform(X_spectral,Y)\n"
   ]
  },
  {
   "cell_type": "markdown",
   "metadata": {},
   "source": [
    "*Combination of spectral and spatial features*"
   ]
  },
  {
   "cell_type": "code",
   "execution_count": 125,
   "metadata": {},
   "outputs": [
    {
     "data": {
      "text/plain": [
       "list"
      ]
     },
     "execution_count": 125,
     "metadata": {},
     "output_type": "execute_result"
    }
   ],
   "source": [
    "X_spectral=list(X_spectral)\n",
    "type(X_spectral)"
   ]
  },
  {
   "cell_type": "code",
   "execution_count": 126,
   "metadata": {},
   "outputs": [],
   "source": [
    "for i in range(len(X_spectral)):\n",
    "    X_spectral[i]=list(X_spectral[i])"
   ]
  },
  {
   "cell_type": "code",
   "execution_count": 127,
   "metadata": {},
   "outputs": [],
   "source": [
    "for i in range(len(X_spectral)):\n",
    "    for j in range(7):\n",
    "        X_spectral[i].append(X_spatial[i][j])"
   ]
  },
  {
   "cell_type": "code",
   "execution_count": 128,
   "metadata": {},
   "outputs": [
    {
     "name": "stdout",
     "output_type": "stream",
     "text": [
      "StandardScaler()\n"
     ]
    }
   ],
   "source": [
    "from sklearn.preprocessing import StandardScaler\n",
    "scaler=StandardScaler()\n",
    "print(scaler.fit(X_spectral))\n",
    "X_spectral = scaler.transform(X_spectral)"
   ]
  },
  {
   "cell_type": "code",
   "execution_count": 129,
   "metadata": {},
   "outputs": [],
   "source": [
    "import numpy as np\n",
    "X=np.array(X_spectral)\n",
    "Y=np.array(Y)"
   ]
  },
  {
   "cell_type": "code",
   "execution_count": 130,
   "metadata": {},
   "outputs": [],
   "source": [
    "from sklearn.model_selection import train_test_split\n",
    "X_train, X_test, y_train, y_test = train_test_split(X, Y, test_size=0.2, shuffle=\"True\") "
   ]
  },
  {
   "cell_type": "code",
   "execution_count": 78,
   "metadata": {},
   "outputs": [],
   "source": [
    "df=pd.DataFrame(y_test, columns=['label'])"
   ]
  },
  {
   "cell_type": "code",
   "execution_count": 79,
   "metadata": {},
   "outputs": [],
   "source": [
    "df.to_csv('y_test.csv')"
   ]
  },
  {
   "cell_type": "markdown",
   "metadata": {},
   "source": [
    "# RandomForestClassifier"
   ]
  },
  {
   "cell_type": "code",
   "execution_count": 98,
   "metadata": {},
   "outputs": [],
   "source": [
    "from sklearn.ensemble import RandomForestClassifier"
   ]
  },
  {
   "cell_type": "code",
   "execution_count": 131,
   "metadata": {},
   "outputs": [],
   "source": [
    "clf = RandomForestClassifier(n_estimators=500, criterion='entropy')"
   ]
  },
  {
   "cell_type": "code",
   "execution_count": 132,
   "metadata": {},
   "outputs": [
    {
     "data": {
      "text/plain": [
       "RandomForestClassifier(criterion='entropy', n_estimators=500)"
      ]
     },
     "execution_count": 132,
     "metadata": {},
     "output_type": "execute_result"
    }
   ],
   "source": [
    "clf.fit(X_train, y_train)"
   ]
  },
  {
   "cell_type": "code",
   "execution_count": 133,
   "metadata": {
    "scrolled": true
   },
   "outputs": [
    {
     "name": "stdout",
     "output_type": "stream",
     "text": [
      "              precision    recall  f1-score   support\n",
      "\n",
      "           0       0.94      0.70      0.80        23\n",
      "           1       0.78      0.64      0.70        11\n",
      "           2       0.96      0.92      0.94        24\n",
      "           3       0.61      0.65      0.63        17\n",
      "           4       0.56      0.45      0.50        22\n",
      "           5       0.82      0.67      0.74        21\n",
      "           6       0.62      0.83      0.71        12\n",
      "           7       0.50      1.00      0.67        13\n",
      "           8       0.88      1.00      0.93        21\n",
      "           9       0.75      0.75      0.75        20\n",
      "          10       0.81      0.94      0.87        18\n",
      "          11       0.72      0.72      0.72        18\n",
      "          12       0.89      0.74      0.81        23\n",
      "          13       0.56      0.86      0.68        21\n",
      "          14       0.80      0.89      0.84        18\n",
      "          15       0.95      0.83      0.89        24\n",
      "          16       0.67      0.78      0.72        18\n",
      "          17       0.96      1.00      0.98        23\n",
      "          18       0.55      0.71      0.62        17\n",
      "          19       0.94      1.00      0.97        17\n",
      "          20       0.68      0.77      0.72        22\n",
      "          21       0.82      0.47      0.60        19\n",
      "          22       0.77      0.59      0.67        17\n",
      "          23       1.00      0.94      0.97        16\n",
      "          24       0.61      0.74      0.67        19\n",
      "          25       0.71      0.81      0.76        21\n",
      "          26       0.77      0.81      0.79        21\n",
      "          27       0.76      0.65      0.70        20\n",
      "          28       0.75      0.50      0.60        24\n",
      "          29       0.90      0.95      0.92        19\n",
      "          30       0.77      0.94      0.85        18\n",
      "          31       0.69      0.79      0.73        14\n",
      "          32       0.60      0.88      0.71        17\n",
      "          33       0.86      0.95      0.90        20\n",
      "          34       1.00      0.92      0.96        13\n",
      "          35       0.94      0.89      0.91        18\n",
      "          36       0.67      0.61      0.64        23\n",
      "          37       0.71      1.00      0.83        15\n",
      "          38       0.94      0.94      0.94        16\n",
      "          39       1.00      0.86      0.93        22\n",
      "          40       1.00      0.92      0.96        24\n",
      "          41       1.00      1.00      1.00        22\n",
      "          42       0.54      0.41      0.47        17\n",
      "          43       0.72      0.68      0.70        19\n",
      "          44       0.85      1.00      0.92        11\n",
      "          45       0.87      0.59      0.70        22\n",
      "          46       0.89      0.64      0.74        25\n",
      "          47       0.61      0.94      0.74        18\n",
      "          48       0.90      0.64      0.75        14\n",
      "          49       1.00      0.76      0.86        29\n",
      "          50       0.47      0.42      0.44        19\n",
      "          51       0.45      0.56      0.50        16\n",
      "          52       0.45      0.29      0.36        17\n",
      "          53       1.00      0.85      0.92        13\n",
      "          54       0.95      1.00      0.97        19\n",
      "          55       0.94      0.85      0.89        20\n",
      "          56       0.67      0.62      0.65        16\n",
      "          57       0.87      1.00      0.93        13\n",
      "          58       0.88      0.82      0.85        17\n",
      "          59       0.88      0.83      0.86        18\n",
      "          60       0.67      1.00      0.80        20\n",
      "          61       1.00      0.95      0.97        19\n",
      "          62       0.71      0.71      0.71        17\n",
      "          63       0.89      0.80      0.84        20\n",
      "          64       0.84      0.73      0.78        22\n",
      "          65       0.81      0.96      0.88        23\n",
      "          66       0.79      0.94      0.86        16\n",
      "          67       0.85      0.92      0.88        24\n",
      "          68       0.82      0.86      0.84        21\n",
      "          69       0.82      1.00      0.90        18\n",
      "          70       0.85      0.89      0.87        19\n",
      "          71       0.71      0.68      0.70        22\n",
      "          72       0.78      0.39      0.52        18\n",
      "          73       0.86      0.78      0.82        23\n",
      "          74       0.90      0.95      0.93        20\n",
      "          75       0.72      0.76      0.74        17\n",
      "          76       1.00      0.65      0.79        17\n",
      "          77       0.70      0.86      0.78        22\n",
      "          78       0.71      0.83      0.77        24\n",
      "          79       0.71      0.74      0.73        27\n",
      "          80       1.00      1.00      1.00        24\n",
      "          81       0.79      0.41      0.54        27\n",
      "          82       0.94      0.94      0.94        16\n",
      "          83       0.71      0.92      0.80        13\n",
      "          84       1.00      0.74      0.85        23\n",
      "          85       0.53      0.53      0.53        15\n",
      "          86       1.00      0.91      0.95        22\n",
      "          87       0.75      0.94      0.83        16\n",
      "          88       0.89      1.00      0.94        16\n",
      "          89       1.00      1.00      1.00        23\n",
      "\n",
      "    accuracy                           0.79      1728\n",
      "   macro avg       0.80      0.80      0.79      1728\n",
      "weighted avg       0.81      0.79      0.79      1728\n",
      "\n"
     ]
    }
   ],
   "source": [
    "from sklearn import metrics\n",
    "from sklearn.metrics import classification_report\n",
    "\n",
    "y_pred = clf.predict(X_test)\n",
    "print(classification_report(y_test, y_pred))"
   ]
  },
  {
   "cell_type": "code",
   "execution_count": 46,
   "metadata": {},
   "outputs": [],
   "source": [
    "df=pd.DataFrame(y_pred, columns=['y_pred_rfc'])\n",
    "df.to_csv('y_pred_rfc.csv')"
   ]
  },
  {
   "cell_type": "code",
   "execution_count": 26,
   "metadata": {},
   "outputs": [],
   "source": [
    "y_pred_prob=clf.predict_proba(X_test)"
   ]
  },
  {
   "cell_type": "code",
   "execution_count": 39,
   "metadata": {},
   "outputs": [],
   "source": [
    "np.savetxt('y_pred.csv', y_pred_prob, delimiter=',')"
   ]
  },
  {
   "cell_type": "markdown",
   "metadata": {},
   "source": [
    "# SVM"
   ]
  },
  {
   "cell_type": "code",
   "execution_count": 19,
   "metadata": {},
   "outputs": [],
   "source": [
    "from sklearn import svm"
   ]
  },
  {
   "cell_type": "code",
   "execution_count": 61,
   "metadata": {},
   "outputs": [],
   "source": [
    "clf_1 = svm.SVC(kernel='sigmoid', C=1, probability=True).fit(X_train, y_train)"
   ]
  },
  {
   "cell_type": "code",
   "execution_count": 62,
   "metadata": {},
   "outputs": [
    {
     "data": {
      "text/plain": [
       "0.7679398148148148"
      ]
     },
     "execution_count": 62,
     "metadata": {},
     "output_type": "execute_result"
    }
   ],
   "source": [
    "clf_1.score(X_test, y_test)"
   ]
  },
  {
   "cell_type": "code",
   "execution_count": 75,
   "metadata": {},
   "outputs": [],
   "source": [
    "y_pred_prob_2=clf_1.predict_proba(X_test)"
   ]
  },
  {
   "cell_type": "code",
   "execution_count": 76,
   "metadata": {},
   "outputs": [],
   "source": [
    "np.savetxt('y_pred_2.csv', y_pred_prob_2, delimiter=',') "
   ]
  },
  {
   "cell_type": "code",
   "execution_count": 63,
   "metadata": {
    "scrolled": true
   },
   "outputs": [
    {
     "name": "stdout",
     "output_type": "stream",
     "text": [
      "              precision    recall  f1-score   support\n",
      "\n",
      "           0       0.74      0.78      0.76        18\n",
      "           1       0.76      0.72      0.74        18\n",
      "           2       0.96      0.96      0.96        24\n",
      "           3       0.54      0.78      0.64        18\n",
      "           4       0.59      0.53      0.56        19\n",
      "           5       0.69      0.60      0.64        15\n",
      "           6       0.78      0.95      0.86        22\n",
      "           7       0.83      0.95      0.88        20\n",
      "           8       0.95      0.83      0.89        24\n",
      "           9       0.69      0.92      0.79        12\n",
      "          10       0.88      0.75      0.81        20\n",
      "          11       0.71      0.80      0.75        15\n",
      "          12       0.56      0.60      0.58        15\n",
      "          13       0.54      0.88      0.67        16\n",
      "          14       0.68      0.68      0.68        25\n",
      "          15       0.75      0.83      0.79        18\n",
      "          16       0.85      0.89      0.87        19\n",
      "          17       0.88      0.88      0.88        17\n",
      "          18       0.61      0.78      0.68        18\n",
      "          19       0.88      0.95      0.91        22\n",
      "          20       0.68      0.85      0.76        20\n",
      "          21       0.58      0.68      0.62        22\n",
      "          22       0.50      0.63      0.56        19\n",
      "          23       0.88      0.96      0.92        24\n",
      "          24       0.47      0.69      0.56        13\n",
      "          25       0.68      0.71      0.70        21\n",
      "          26       0.58      0.65      0.61        17\n",
      "          27       0.62      0.57      0.59        23\n",
      "          28       0.59      0.77      0.67        13\n",
      "          29       1.00      0.88      0.93        24\n",
      "          30       0.95      0.83      0.88        23\n",
      "          31       0.82      0.67      0.74        21\n",
      "          32       0.57      0.64      0.60        25\n",
      "          33       0.68      0.75      0.71        20\n",
      "          34       0.88      1.00      0.93        14\n",
      "          35       0.79      0.58      0.67        26\n",
      "          36       0.61      0.65      0.63        17\n",
      "          37       0.74      0.94      0.83        18\n",
      "          38       0.91      0.95      0.93        21\n",
      "          39       0.89      0.74      0.81        23\n",
      "          40       1.00      0.95      0.98        22\n",
      "          41       0.94      0.94      0.94        18\n",
      "          42       0.48      0.46      0.47        24\n",
      "          43       0.65      0.88      0.75        17\n",
      "          44       0.94      1.00      0.97        16\n",
      "          45       0.56      0.56      0.56        16\n",
      "          46       0.69      0.46      0.55        24\n",
      "          47       0.64      0.64      0.64        22\n",
      "          48       0.85      0.61      0.71        18\n",
      "          49       1.00      0.62      0.77        16\n",
      "          50       0.39      0.69      0.50        13\n",
      "          51       0.45      0.48      0.47        21\n",
      "          52       0.63      0.67      0.65        18\n",
      "          53       0.88      0.88      0.88        17\n",
      "          54       0.94      0.80      0.86        20\n",
      "          55       0.69      0.50      0.58        22\n",
      "          56       0.82      0.82      0.82        17\n",
      "          57       0.86      0.80      0.83        15\n",
      "          58       0.92      0.86      0.89        28\n",
      "          59       1.00      0.94      0.97        18\n",
      "          60       0.90      0.78      0.84        23\n",
      "          61       1.00      0.90      0.95        20\n",
      "          62       0.79      0.68      0.73        22\n",
      "          63       0.85      0.85      0.85        20\n",
      "          64       0.77      0.59      0.67        17\n",
      "          65       0.88      0.78      0.82        18\n",
      "          66       0.84      0.84      0.84        19\n",
      "          67       0.90      0.47      0.62        19\n",
      "          68       0.65      0.69      0.67        16\n",
      "          69       0.83      0.76      0.79        25\n",
      "          70       1.00      0.85      0.92        27\n",
      "          71       0.86      0.75      0.80        16\n",
      "          72       0.53      0.67      0.59        15\n",
      "          73       0.88      0.78      0.82        18\n",
      "          74       0.96      0.93      0.94        27\n",
      "          75       0.72      0.65      0.68        20\n",
      "          76       0.91      0.83      0.87        12\n",
      "          77       0.56      0.64      0.60        14\n",
      "          78       0.87      0.72      0.79        18\n",
      "          79       0.56      0.90      0.69        10\n",
      "          80       1.00      0.95      0.97        19\n",
      "          81       0.86      0.63      0.73        19\n",
      "          82       0.84      0.84      0.84        19\n",
      "          83       0.75      0.80      0.77        15\n",
      "          84       0.70      0.78      0.74        18\n",
      "          85       0.78      0.58      0.67        12\n",
      "          86       0.95      0.95      0.95        19\n",
      "          87       0.93      0.93      0.93        28\n",
      "          88       1.00      0.88      0.94        17\n",
      "          89       1.00      0.88      0.94        25\n",
      "\n",
      "    accuracy                           0.77      1728\n",
      "   macro avg       0.77      0.77      0.76      1728\n",
      "weighted avg       0.78      0.77      0.77      1728\n",
      "\n"
     ]
    }
   ],
   "source": [
    "from sklearn import metrics\n",
    "from sklearn.metrics import classification_report\n",
    "y_pred_2 = clf_1.predict(X_test)\n",
    "print(classification_report(y_test, y_pred_2))"
   ]
  },
  {
   "cell_type": "code",
   "execution_count": 77,
   "metadata": {},
   "outputs": [],
   "source": [
    "df=pd.DataFrame(y_pred_2, columns=['y_pred_svm'])\n",
    "df.to_csv('y_pred_svm.csv')"
   ]
  },
  {
   "cell_type": "markdown",
   "metadata": {},
   "source": [
    "# CNN"
   ]
  },
  {
   "cell_type": "code",
   "execution_count": 90,
   "metadata": {},
   "outputs": [],
   "source": [
    "import tensorflow as tf\n",
    "from tensorflow import keras\n",
    "from tensorflow.keras.models import Sequential\n",
    "from tensorflow.keras.layers import Activation, Dense, BatchNormalization, Conv1D, MaxPool1D, Flatten, Dropout,InputLayer, AveragePooling1D\n",
    "from tensorflow.keras.optimizers import Adam, SGD\n",
    "from tensorflow.keras.metrics import categorical_crossentropy\n",
    "from tensorflow.keras.preprocessing.image import ImageDataGenerator"
   ]
  },
  {
   "cell_type": "code",
   "execution_count": 87,
   "metadata": {},
   "outputs": [],
   "source": [
    "from keras.backend import sigmoid\n",
    "def swish(x, beta = 1):\n",
    "    return (x * sigmoid(beta * x))"
   ]
  },
  {
   "cell_type": "code",
   "execution_count": 88,
   "metadata": {},
   "outputs": [],
   "source": [
    "from keras.utils.generic_utils import get_custom_objects\n",
    "from keras.layers import Activation\n",
    "get_custom_objects().update({'swish': Activation(swish)})"
   ]
  },
  {
   "cell_type": "code",
   "execution_count": null,
   "metadata": {},
   "outputs": [],
   "source": []
  },
  {
   "cell_type": "code",
   "execution_count": 113,
   "metadata": {},
   "outputs": [],
   "source": [
    "model=Sequential()\n",
    "model.add(InputLayer(input_shape=(92,1)))\n",
    "model.add(Conv1D(64, 9,  padding='same',  activation=\"swish\"))\n",
    "model.add(Conv1D(64, 9,  padding='same',  activation=\"swish\"))\n",
    "\n",
    "\n",
    "model.add(Conv1D(128, 9,  padding='same',  activation=\"swish\"))\n",
    "model.add(Conv1D(128, 9,  padding='same',  activation=\"swish\"))\n",
    "\n",
    "\n",
    "model.add(Conv1D(256, 9,  padding='same', activation=\"ReLU\", strides=2))\n",
    "\n",
    "model.add(Conv1D(128, 9,  padding='same',  activation=\"swish\"))\n",
    "model.add(Conv1D(128, 9,  padding='same',  activation=\"swish\"))\n",
    "model.add(Conv1D(128, 9,  padding='same',  activation=\"swish\"))\n",
    "\n",
    "model.add(Conv1D(256, 9,  padding='same', activation=\"ReLU\", strides=2))\n",
    "\n",
    "model.add(Conv1D(256, 9,  padding='same',  activation=\"swish\"))\n",
    "model.add(Conv1D(256, 9,  padding='same',  activation=\"swish\"))\n",
    "\n",
    "model.add(Conv1D(512, 9,  padding='same', activation=\"ReLU\", strides=2))\n",
    "\n",
    "model.add(Conv1D(256, 9,  padding='same',  activation=\"swish\"))\n",
    "model.add(Conv1D(256, 9,  padding='same',  activation=\"swish\"))\n",
    "\n",
    "model.add(MaxPool1D(pool_size=2,strides=2, padding='valid'))\n",
    "\n",
    "model.add(BatchNormalization())\n",
    "model.add(Flatten())\n",
    "\n",
    "model.add(Dropout(0.50))\n",
    "model.add(Dense(2048, activation=\"swish\"))\n",
    "model.add(Dropout(0.20))\n",
    "model.add(Dense(1028, activation=\"swish\"))\n",
    "model.add(Dropout(0.20))\n",
    "model.add(Dense(512, activation=\"swish\"))\n",
    "\n",
    "model.add(BatchNormalization())\n",
    "\n",
    "model.add(Dense(90, activation='softmax'))\n",
    "model.build()"
   ]
  },
  {
   "cell_type": "code",
   "execution_count": 109,
   "metadata": {},
   "outputs": [
    {
     "name": "stderr",
     "output_type": "stream",
     "text": [
      "C:\\Users\\nishu\\anaconda3\\lib\\site-packages\\keras\\optimizer_v2\\gradient_descent.py:102: UserWarning: The `lr` argument is deprecated, use `learning_rate` instead.\n",
      "  super(SGD, self).__init__(name, **kwargs)\n"
     ]
    }
   ],
   "source": [
    "epochs=400\n",
    "learning_rate = 0.1\n",
    "decay_rate = learning_rate / epochs\n",
    "momentum = 0.8\n",
    "sgd = SGD(lr=learning_rate, momentum=momentum, decay=decay_rate, nesterov=False)"
   ]
  },
  {
   "cell_type": "code",
   "execution_count": 115,
   "metadata": {},
   "outputs": [],
   "source": [
    "model.compile(optimizer=Adam(learning_rate=0.0001), loss='sparse_categorical_crossentropy', metrics=['Accuracy'])"
   ]
  },
  {
   "cell_type": "code",
   "execution_count": 116,
   "metadata": {},
   "outputs": [],
   "source": [
    "from keras.callbacks import ModelCheckpoint\n",
    "mcp_save = ModelCheckpoint('.tmp/checkpoint_1', save_best_only=True, monitor='val_loss', mode='min', save_weights_only=True)"
   ]
  },
  {
   "cell_type": "code",
   "execution_count": 118,
   "metadata": {},
   "outputs": [
    {
     "name": "stdout",
     "output_type": "stream",
     "text": [
      "Epoch 1/100\n"
     ]
    },
    {
     "ename": "KeyboardInterrupt",
     "evalue": "",
     "output_type": "error",
     "traceback": [
      "\u001b[1;31m---------------------------------------------------------------------------\u001b[0m",
      "\u001b[1;31mKeyboardInterrupt\u001b[0m                         Traceback (most recent call last)",
      "\u001b[1;32m<ipython-input-118-2647acc47e14>\u001b[0m in \u001b[0;36m<module>\u001b[1;34m\u001b[0m\n\u001b[1;32m----> 1\u001b[1;33m \u001b[0mhistory\u001b[0m \u001b[1;33m=\u001b[0m \u001b[0mmodel\u001b[0m\u001b[1;33m.\u001b[0m\u001b[0mfit\u001b[0m\u001b[1;33m(\u001b[0m\u001b[0mX_train\u001b[0m\u001b[1;33m,\u001b[0m \u001b[0my_train\u001b[0m\u001b[1;33m,\u001b[0m \u001b[0mbatch_size\u001b[0m\u001b[1;33m=\u001b[0m\u001b[1;36m50\u001b[0m\u001b[1;33m,\u001b[0m \u001b[0mepochs\u001b[0m\u001b[1;33m=\u001b[0m\u001b[1;36m100\u001b[0m\u001b[1;33m,\u001b[0m \u001b[0mverbose\u001b[0m\u001b[1;33m=\u001b[0m\u001b[1;36m2\u001b[0m\u001b[1;33m,\u001b[0m \u001b[0mshuffle\u001b[0m\u001b[1;33m=\u001b[0m\u001b[1;36m2\u001b[0m\u001b[1;33m,\u001b[0m \u001b[0mcallbacks\u001b[0m\u001b[1;33m=\u001b[0m\u001b[1;33m[\u001b[0m \u001b[0mmcp_save\u001b[0m\u001b[1;33m]\u001b[0m\u001b[1;33m,\u001b[0m \u001b[0mvalidation_split\u001b[0m\u001b[1;33m=\u001b[0m\u001b[1;36m0.3\u001b[0m\u001b[1;33m)\u001b[0m\u001b[1;33m\u001b[0m\u001b[1;33m\u001b[0m\u001b[0m\n\u001b[0m",
      "\u001b[1;32m~\\anaconda3\\lib\\site-packages\\keras\\utils\\traceback_utils.py\u001b[0m in \u001b[0;36merror_handler\u001b[1;34m(*args, **kwargs)\u001b[0m\n\u001b[0;32m     62\u001b[0m     \u001b[0mfiltered_tb\u001b[0m \u001b[1;33m=\u001b[0m \u001b[1;32mNone\u001b[0m\u001b[1;33m\u001b[0m\u001b[1;33m\u001b[0m\u001b[0m\n\u001b[0;32m     63\u001b[0m     \u001b[1;32mtry\u001b[0m\u001b[1;33m:\u001b[0m\u001b[1;33m\u001b[0m\u001b[1;33m\u001b[0m\u001b[0m\n\u001b[1;32m---> 64\u001b[1;33m       \u001b[1;32mreturn\u001b[0m \u001b[0mfn\u001b[0m\u001b[1;33m(\u001b[0m\u001b[1;33m*\u001b[0m\u001b[0margs\u001b[0m\u001b[1;33m,\u001b[0m \u001b[1;33m**\u001b[0m\u001b[0mkwargs\u001b[0m\u001b[1;33m)\u001b[0m\u001b[1;33m\u001b[0m\u001b[1;33m\u001b[0m\u001b[0m\n\u001b[0m\u001b[0;32m     65\u001b[0m     \u001b[1;32mexcept\u001b[0m \u001b[0mException\u001b[0m \u001b[1;32mas\u001b[0m \u001b[0me\u001b[0m\u001b[1;33m:\u001b[0m  \u001b[1;31m# pylint: disable=broad-except\u001b[0m\u001b[1;33m\u001b[0m\u001b[1;33m\u001b[0m\u001b[0m\n\u001b[0;32m     66\u001b[0m       \u001b[0mfiltered_tb\u001b[0m \u001b[1;33m=\u001b[0m \u001b[0m_process_traceback_frames\u001b[0m\u001b[1;33m(\u001b[0m\u001b[0me\u001b[0m\u001b[1;33m.\u001b[0m\u001b[0m__traceback__\u001b[0m\u001b[1;33m)\u001b[0m\u001b[1;33m\u001b[0m\u001b[1;33m\u001b[0m\u001b[0m\n",
      "\u001b[1;32m~\\anaconda3\\lib\\site-packages\\keras\\engine\\training.py\u001b[0m in \u001b[0;36mfit\u001b[1;34m(self, x, y, batch_size, epochs, verbose, callbacks, validation_split, validation_data, shuffle, class_weight, sample_weight, initial_epoch, steps_per_epoch, validation_steps, validation_batch_size, validation_freq, max_queue_size, workers, use_multiprocessing)\u001b[0m\n\u001b[0;32m   1214\u001b[0m                 _r=1):\n\u001b[0;32m   1215\u001b[0m               \u001b[0mcallbacks\u001b[0m\u001b[1;33m.\u001b[0m\u001b[0mon_train_batch_begin\u001b[0m\u001b[1;33m(\u001b[0m\u001b[0mstep\u001b[0m\u001b[1;33m)\u001b[0m\u001b[1;33m\u001b[0m\u001b[1;33m\u001b[0m\u001b[0m\n\u001b[1;32m-> 1216\u001b[1;33m               \u001b[0mtmp_logs\u001b[0m \u001b[1;33m=\u001b[0m \u001b[0mself\u001b[0m\u001b[1;33m.\u001b[0m\u001b[0mtrain_function\u001b[0m\u001b[1;33m(\u001b[0m\u001b[0miterator\u001b[0m\u001b[1;33m)\u001b[0m\u001b[1;33m\u001b[0m\u001b[1;33m\u001b[0m\u001b[0m\n\u001b[0m\u001b[0;32m   1217\u001b[0m               \u001b[1;32mif\u001b[0m \u001b[0mdata_handler\u001b[0m\u001b[1;33m.\u001b[0m\u001b[0mshould_sync\u001b[0m\u001b[1;33m:\u001b[0m\u001b[1;33m\u001b[0m\u001b[1;33m\u001b[0m\u001b[0m\n\u001b[0;32m   1218\u001b[0m                 \u001b[0mcontext\u001b[0m\u001b[1;33m.\u001b[0m\u001b[0masync_wait\u001b[0m\u001b[1;33m(\u001b[0m\u001b[1;33m)\u001b[0m\u001b[1;33m\u001b[0m\u001b[1;33m\u001b[0m\u001b[0m\n",
      "\u001b[1;32m~\\anaconda3\\lib\\site-packages\\tensorflow\\python\\util\\traceback_utils.py\u001b[0m in \u001b[0;36merror_handler\u001b[1;34m(*args, **kwargs)\u001b[0m\n\u001b[0;32m    148\u001b[0m     \u001b[0mfiltered_tb\u001b[0m \u001b[1;33m=\u001b[0m \u001b[1;32mNone\u001b[0m\u001b[1;33m\u001b[0m\u001b[1;33m\u001b[0m\u001b[0m\n\u001b[0;32m    149\u001b[0m     \u001b[1;32mtry\u001b[0m\u001b[1;33m:\u001b[0m\u001b[1;33m\u001b[0m\u001b[1;33m\u001b[0m\u001b[0m\n\u001b[1;32m--> 150\u001b[1;33m       \u001b[1;32mreturn\u001b[0m \u001b[0mfn\u001b[0m\u001b[1;33m(\u001b[0m\u001b[1;33m*\u001b[0m\u001b[0margs\u001b[0m\u001b[1;33m,\u001b[0m \u001b[1;33m**\u001b[0m\u001b[0mkwargs\u001b[0m\u001b[1;33m)\u001b[0m\u001b[1;33m\u001b[0m\u001b[1;33m\u001b[0m\u001b[0m\n\u001b[0m\u001b[0;32m    151\u001b[0m     \u001b[1;32mexcept\u001b[0m \u001b[0mException\u001b[0m \u001b[1;32mas\u001b[0m \u001b[0me\u001b[0m\u001b[1;33m:\u001b[0m\u001b[1;33m\u001b[0m\u001b[1;33m\u001b[0m\u001b[0m\n\u001b[0;32m    152\u001b[0m       \u001b[0mfiltered_tb\u001b[0m \u001b[1;33m=\u001b[0m \u001b[0m_process_traceback_frames\u001b[0m\u001b[1;33m(\u001b[0m\u001b[0me\u001b[0m\u001b[1;33m.\u001b[0m\u001b[0m__traceback__\u001b[0m\u001b[1;33m)\u001b[0m\u001b[1;33m\u001b[0m\u001b[1;33m\u001b[0m\u001b[0m\n",
      "\u001b[1;32m~\\anaconda3\\lib\\site-packages\\tensorflow\\python\\eager\\def_function.py\u001b[0m in \u001b[0;36m__call__\u001b[1;34m(self, *args, **kwds)\u001b[0m\n\u001b[0;32m    908\u001b[0m \u001b[1;33m\u001b[0m\u001b[0m\n\u001b[0;32m    909\u001b[0m       \u001b[1;32mwith\u001b[0m \u001b[0mOptionalXlaContext\u001b[0m\u001b[1;33m(\u001b[0m\u001b[0mself\u001b[0m\u001b[1;33m.\u001b[0m\u001b[0m_jit_compile\u001b[0m\u001b[1;33m)\u001b[0m\u001b[1;33m:\u001b[0m\u001b[1;33m\u001b[0m\u001b[1;33m\u001b[0m\u001b[0m\n\u001b[1;32m--> 910\u001b[1;33m         \u001b[0mresult\u001b[0m \u001b[1;33m=\u001b[0m \u001b[0mself\u001b[0m\u001b[1;33m.\u001b[0m\u001b[0m_call\u001b[0m\u001b[1;33m(\u001b[0m\u001b[1;33m*\u001b[0m\u001b[0margs\u001b[0m\u001b[1;33m,\u001b[0m \u001b[1;33m**\u001b[0m\u001b[0mkwds\u001b[0m\u001b[1;33m)\u001b[0m\u001b[1;33m\u001b[0m\u001b[1;33m\u001b[0m\u001b[0m\n\u001b[0m\u001b[0;32m    911\u001b[0m \u001b[1;33m\u001b[0m\u001b[0m\n\u001b[0;32m    912\u001b[0m       \u001b[0mnew_tracing_count\u001b[0m \u001b[1;33m=\u001b[0m \u001b[0mself\u001b[0m\u001b[1;33m.\u001b[0m\u001b[0mexperimental_get_tracing_count\u001b[0m\u001b[1;33m(\u001b[0m\u001b[1;33m)\u001b[0m\u001b[1;33m\u001b[0m\u001b[1;33m\u001b[0m\u001b[0m\n",
      "\u001b[1;32m~\\anaconda3\\lib\\site-packages\\tensorflow\\python\\eager\\def_function.py\u001b[0m in \u001b[0;36m_call\u001b[1;34m(self, *args, **kwds)\u001b[0m\n\u001b[0;32m    940\u001b[0m       \u001b[1;31m# In this case we have created variables on the first call, so we run the\u001b[0m\u001b[1;33m\u001b[0m\u001b[1;33m\u001b[0m\u001b[1;33m\u001b[0m\u001b[0m\n\u001b[0;32m    941\u001b[0m       \u001b[1;31m# defunned version which is guaranteed to never create variables.\u001b[0m\u001b[1;33m\u001b[0m\u001b[1;33m\u001b[0m\u001b[1;33m\u001b[0m\u001b[0m\n\u001b[1;32m--> 942\u001b[1;33m       \u001b[1;32mreturn\u001b[0m \u001b[0mself\u001b[0m\u001b[1;33m.\u001b[0m\u001b[0m_stateless_fn\u001b[0m\u001b[1;33m(\u001b[0m\u001b[1;33m*\u001b[0m\u001b[0margs\u001b[0m\u001b[1;33m,\u001b[0m \u001b[1;33m**\u001b[0m\u001b[0mkwds\u001b[0m\u001b[1;33m)\u001b[0m  \u001b[1;31m# pylint: disable=not-callable\u001b[0m\u001b[1;33m\u001b[0m\u001b[1;33m\u001b[0m\u001b[0m\n\u001b[0m\u001b[0;32m    943\u001b[0m     \u001b[1;32melif\u001b[0m \u001b[0mself\u001b[0m\u001b[1;33m.\u001b[0m\u001b[0m_stateful_fn\u001b[0m \u001b[1;32mis\u001b[0m \u001b[1;32mnot\u001b[0m \u001b[1;32mNone\u001b[0m\u001b[1;33m:\u001b[0m\u001b[1;33m\u001b[0m\u001b[1;33m\u001b[0m\u001b[0m\n\u001b[0;32m    944\u001b[0m       \u001b[1;31m# Release the lock early so that multiple threads can perform the call\u001b[0m\u001b[1;33m\u001b[0m\u001b[1;33m\u001b[0m\u001b[1;33m\u001b[0m\u001b[0m\n",
      "\u001b[1;32m~\\anaconda3\\lib\\site-packages\\tensorflow\\python\\eager\\function.py\u001b[0m in \u001b[0;36m__call__\u001b[1;34m(self, *args, **kwargs)\u001b[0m\n\u001b[0;32m   3128\u001b[0m       (graph_function,\n\u001b[0;32m   3129\u001b[0m        filtered_flat_args) = self._maybe_define_function(args, kwargs)\n\u001b[1;32m-> 3130\u001b[1;33m     return graph_function._call_flat(\n\u001b[0m\u001b[0;32m   3131\u001b[0m         filtered_flat_args, captured_inputs=graph_function.captured_inputs)  # pylint: disable=protected-access\n\u001b[0;32m   3132\u001b[0m \u001b[1;33m\u001b[0m\u001b[0m\n",
      "\u001b[1;32m~\\anaconda3\\lib\\site-packages\\tensorflow\\python\\eager\\function.py\u001b[0m in \u001b[0;36m_call_flat\u001b[1;34m(self, args, captured_inputs, cancellation_manager)\u001b[0m\n\u001b[0;32m   1957\u001b[0m         and executing_eagerly):\n\u001b[0;32m   1958\u001b[0m       \u001b[1;31m# No tape is watching; skip to running the function.\u001b[0m\u001b[1;33m\u001b[0m\u001b[1;33m\u001b[0m\u001b[1;33m\u001b[0m\u001b[0m\n\u001b[1;32m-> 1959\u001b[1;33m       return self._build_call_outputs(self._inference_function.call(\n\u001b[0m\u001b[0;32m   1960\u001b[0m           ctx, args, cancellation_manager=cancellation_manager))\n\u001b[0;32m   1961\u001b[0m     forward_backward = self._select_forward_and_backward_functions(\n",
      "\u001b[1;32m~\\anaconda3\\lib\\site-packages\\tensorflow\\python\\eager\\function.py\u001b[0m in \u001b[0;36mcall\u001b[1;34m(self, ctx, args, cancellation_manager)\u001b[0m\n\u001b[0;32m    596\u001b[0m       \u001b[1;32mwith\u001b[0m \u001b[0m_InterpolateFunctionError\u001b[0m\u001b[1;33m(\u001b[0m\u001b[0mself\u001b[0m\u001b[1;33m)\u001b[0m\u001b[1;33m:\u001b[0m\u001b[1;33m\u001b[0m\u001b[1;33m\u001b[0m\u001b[0m\n\u001b[0;32m    597\u001b[0m         \u001b[1;32mif\u001b[0m \u001b[0mcancellation_manager\u001b[0m \u001b[1;32mis\u001b[0m \u001b[1;32mNone\u001b[0m\u001b[1;33m:\u001b[0m\u001b[1;33m\u001b[0m\u001b[1;33m\u001b[0m\u001b[0m\n\u001b[1;32m--> 598\u001b[1;33m           outputs = execute.execute(\n\u001b[0m\u001b[0;32m    599\u001b[0m               \u001b[0mstr\u001b[0m\u001b[1;33m(\u001b[0m\u001b[0mself\u001b[0m\u001b[1;33m.\u001b[0m\u001b[0msignature\u001b[0m\u001b[1;33m.\u001b[0m\u001b[0mname\u001b[0m\u001b[1;33m)\u001b[0m\u001b[1;33m,\u001b[0m\u001b[1;33m\u001b[0m\u001b[1;33m\u001b[0m\u001b[0m\n\u001b[0;32m    600\u001b[0m               \u001b[0mnum_outputs\u001b[0m\u001b[1;33m=\u001b[0m\u001b[0mself\u001b[0m\u001b[1;33m.\u001b[0m\u001b[0m_num_outputs\u001b[0m\u001b[1;33m,\u001b[0m\u001b[1;33m\u001b[0m\u001b[1;33m\u001b[0m\u001b[0m\n",
      "\u001b[1;32m~\\anaconda3\\lib\\site-packages\\tensorflow\\python\\eager\\execute.py\u001b[0m in \u001b[0;36mquick_execute\u001b[1;34m(op_name, num_outputs, inputs, attrs, ctx, name)\u001b[0m\n\u001b[0;32m     56\u001b[0m   \u001b[1;32mtry\u001b[0m\u001b[1;33m:\u001b[0m\u001b[1;33m\u001b[0m\u001b[1;33m\u001b[0m\u001b[0m\n\u001b[0;32m     57\u001b[0m     \u001b[0mctx\u001b[0m\u001b[1;33m.\u001b[0m\u001b[0mensure_initialized\u001b[0m\u001b[1;33m(\u001b[0m\u001b[1;33m)\u001b[0m\u001b[1;33m\u001b[0m\u001b[1;33m\u001b[0m\u001b[0m\n\u001b[1;32m---> 58\u001b[1;33m     tensors = pywrap_tfe.TFE_Py_Execute(ctx._handle, device_name, op_name,\n\u001b[0m\u001b[0;32m     59\u001b[0m                                         inputs, attrs, num_outputs)\n\u001b[0;32m     60\u001b[0m   \u001b[1;32mexcept\u001b[0m \u001b[0mcore\u001b[0m\u001b[1;33m.\u001b[0m\u001b[0m_NotOkStatusException\u001b[0m \u001b[1;32mas\u001b[0m \u001b[0me\u001b[0m\u001b[1;33m:\u001b[0m\u001b[1;33m\u001b[0m\u001b[1;33m\u001b[0m\u001b[0m\n",
      "\u001b[1;31mKeyboardInterrupt\u001b[0m: "
     ]
    }
   ],
   "source": [
    "history = model.fit(X_train, y_train, batch_size=80, epochs=400, verbose=2, shuffle=2, callbacks=[ mcp_save], validation_split=0.3)"
   ]
  },
  {
   "cell_type": "code",
   "execution_count": 69,
   "metadata": {},
   "outputs": [
    {
     "data": {
      "text/plain": [
       "<tensorflow.python.training.tracking.util.CheckpointLoadStatus at 0x213cbfbd2b0>"
      ]
     },
     "execution_count": 69,
     "metadata": {},
     "output_type": "execute_result"
    }
   ],
   "source": [
    "model.load_weights(filepath = '.tmp/checkpoint_1')"
   ]
  },
  {
   "cell_type": "code",
   "execution_count": 70,
   "metadata": {},
   "outputs": [
    {
     "name": "stdout",
     "output_type": "stream",
     "text": [
      "Accuracy: 54.86%\n"
     ]
    }
   ],
   "source": [
    "scores = model.evaluate(X_test, y_test, verbose=0)\n",
    "print(\"%s: %.2f%%\" % (model.metrics_names[1], scores[1]*100))"
   ]
  },
  {
   "cell_type": "code",
   "execution_count": 71,
   "metadata": {},
   "outputs": [],
   "source": [
    "y_pred_prob_3=model.predict(X_test)"
   ]
  },
  {
   "cell_type": "code",
   "execution_count": 72,
   "metadata": {},
   "outputs": [],
   "source": [
    "y_pred_3=np.argmax(y_pred_prob_3, axis = 1)"
   ]
  },
  {
   "cell_type": "code",
   "execution_count": 73,
   "metadata": {},
   "outputs": [],
   "source": [
    "np.savetxt('y_pred_3.csv', y_pred_prob_3, delimiter=',') "
   ]
  },
  {
   "cell_type": "code",
   "execution_count": 74,
   "metadata": {},
   "outputs": [],
   "source": [
    "df=pd.DataFrame(y_pred_3, columns=['y_pred_cnn'])\n",
    "df.to_csv('y_pred_cnn.csv')"
   ]
  },
  {
   "cell_type": "code",
   "execution_count": 43,
   "metadata": {},
   "outputs": [
    {
     "name": "stdout",
     "output_type": "stream",
     "text": [
      "Collecting pysptoolsNote: you may need to restart the kernel to use updated packages.\n",
      "  Downloading pysptools-0.15.0.tar.gz (8.1 MB)\n",
      "Building wheels for collected packages: pysptools\n",
      "  Building wheel for pysptools (setup.py): started\n",
      "  Building wheel for pysptools (setup.py): finished with status 'done'\n",
      "  Created wheel for pysptools: filename=pysptools-0.15.0-py3-none-any.whl size=8133753 sha256=368e401cf95640523c85460a5590644532caa8ce40bf4d58b89fc8b743484fd1\n",
      "  Stored in directory: c:\\users\\nishu\\appdata\\local\\pip\\cache\\wheels\\7b\\9f\\12\\f7d4d71846cbe291217b5bb8d24d1a7f5628f38f97aed2eaa0\n",
      "Successfully built pysptools\n",
      "Installing collected packages: pysptools\n",
      "Successfully installed pysptools-0.15.0\n",
      "\n"
     ]
    }
   ],
   "source": [
    "pip install pysptools"
   ]
  },
  {
   "cell_type": "code",
   "execution_count": 3,
   "metadata": {},
   "outputs": [
    {
     "data": {
      "text/plain": [
       "[383.222222,\n",
       " 385.583333,\n",
       " 388.027778,\n",
       " 390.472222,\n",
       " 392.916667,\n",
       " 395.361111,\n",
       " 397.805556,\n",
       " 400.25,\n",
       " 402.694444,\n",
       " 405.138889,\n",
       " 407.583333,\n",
       " 410.027778,\n",
       " 412.472222,\n",
       " 414.916667,\n",
       " 417.361111,\n",
       " 419.805556,\n",
       " 422.25,\n",
       " 424.694444,\n",
       " 427.138889,\n",
       " 429.583333,\n",
       " 432.027778,\n",
       " 434.472222,\n",
       " 436.916667,\n",
       " 439.361111,\n",
       " 441.805556,\n",
       " 444.25,\n",
       " 446.694444,\n",
       " 449.138889,\n",
       " 451.583333,\n",
       " 454.027778,\n",
       " 456.472222,\n",
       " 458.916667,\n",
       " 461.361111,\n",
       " 463.805556,\n",
       " 466.25,\n",
       " 468.694444,\n",
       " 471.138889,\n",
       " 473.583333,\n",
       " 476.027778,\n",
       " 478.472222,\n",
       " 480.916667,\n",
       " 483.361111,\n",
       " 485.805556,\n",
       " 488.25,\n",
       " 490.694444,\n",
       " 493.138889,\n",
       " 495.583333,\n",
       " 498.027778,\n",
       " 500.472222,\n",
       " 502.916667,\n",
       " 505.361111,\n",
       " 507.805556,\n",
       " 510.25,\n",
       " 512.694444,\n",
       " 515.138889,\n",
       " 517.583333,\n",
       " 520.027778,\n",
       " 522.472222,\n",
       " 524.916667,\n",
       " 527.361111,\n",
       " 529.805556,\n",
       " 532.25,\n",
       " 534.694444,\n",
       " 537.138889,\n",
       " 539.583333,\n",
       " 542.027778,\n",
       " 544.472222,\n",
       " 546.916667,\n",
       " 549.361111,\n",
       " 551.805556,\n",
       " 554.25,\n",
       " 556.694444,\n",
       " 559.138889,\n",
       " 561.583333,\n",
       " 564.027778,\n",
       " 566.472222,\n",
       " 568.916667,\n",
       " 571.361111,\n",
       " 573.805556,\n",
       " 576.25,\n",
       " 578.694444,\n",
       " 581.138889,\n",
       " 583.583333,\n",
       " 586.027778,\n",
       " 588.472222,\n",
       " 590.916667,\n",
       " 593.361111,\n",
       " 595.805556,\n",
       " 598.25,\n",
       " 600.694444,\n",
       " 603.138889,\n",
       " 605.583333,\n",
       " 608.027778,\n",
       " 610.472222,\n",
       " 612.916667,\n",
       " 615.361111,\n",
       " 617.805556,\n",
       " 620.25,\n",
       " 622.694444,\n",
       " 625.138889,\n",
       " 627.583333,\n",
       " 630.027778,\n",
       " 632.472222,\n",
       " 634.916667,\n",
       " 637.361111,\n",
       " 639.805556,\n",
       " 642.25,\n",
       " 644.694444,\n",
       " 647.138889,\n",
       " 649.583333,\n",
       " 652.027778,\n",
       " 654.472222,\n",
       " 656.916667,\n",
       " 659.361111,\n",
       " 661.805556,\n",
       " 664.25,\n",
       " 666.694444,\n",
       " 669.138889,\n",
       " 671.583333,\n",
       " 674.027778,\n",
       " 676.472222,\n",
       " 678.916667,\n",
       " 681.361111,\n",
       " 683.805556,\n",
       " 686.25,\n",
       " 688.694444,\n",
       " 691.138889,\n",
       " 693.583333,\n",
       " 696.027778,\n",
       " 698.472222,\n",
       " 700.916667,\n",
       " 703.361111,\n",
       " 705.805556,\n",
       " 708.25,\n",
       " 710.694444,\n",
       " 713.138889,\n",
       " 715.583333,\n",
       " 718.027778,\n",
       " 720.472222,\n",
       " 722.916667,\n",
       " 725.361111,\n",
       " 727.805556,\n",
       " 730.25,\n",
       " 732.694444,\n",
       " 735.138889,\n",
       " 737.583333,\n",
       " 740.027778,\n",
       " 742.472222,\n",
       " 744.916667,\n",
       " 747.361111,\n",
       " 749.805556,\n",
       " 752.25,\n",
       " 754.694444,\n",
       " 757.138889,\n",
       " 759.583333,\n",
       " 762.027778,\n",
       " 764.472222,\n",
       " 766.916667,\n",
       " 769.361111,\n",
       " 771.805556,\n",
       " 774.25,\n",
       " 776.694444,\n",
       " 779.138889,\n",
       " 781.583333,\n",
       " 784.027778,\n",
       " 786.472222,\n",
       " 788.916667,\n",
       " 791.361111,\n",
       " 793.805556,\n",
       " 796.25,\n",
       " 798.694444,\n",
       " 801.138889,\n",
       " 803.583333,\n",
       " 806.027778,\n",
       " 808.472222,\n",
       " 810.916667,\n",
       " 813.361111,\n",
       " 815.805556,\n",
       " 818.25,\n",
       " 820.694444,\n",
       " 823.138889,\n",
       " 825.583333,\n",
       " 828.027778,\n",
       " 830.472222,\n",
       " 832.916667,\n",
       " 835.361111,\n",
       " 837.805556,\n",
       " 840.25,\n",
       " 842.694444,\n",
       " 845.138889,\n",
       " 847.583333,\n",
       " 850.027778,\n",
       " 852.472222,\n",
       " 854.916667,\n",
       " 857.361111,\n",
       " 859.805556,\n",
       " 862.25,\n",
       " 864.694444,\n",
       " 867.138889,\n",
       " 869.583333,\n",
       " 872.027778,\n",
       " 874.472222,\n",
       " 876.916667,\n",
       " 879.361111,\n",
       " 881.805556,\n",
       " 884.25,\n",
       " 886.694444,\n",
       " 889.138889,\n",
       " 891.583333,\n",
       " 894.027778,\n",
       " 896.472222,\n",
       " 898.916667,\n",
       " 901.361111,\n",
       " 903.805556,\n",
       " 906.25,\n",
       " 908.694444,\n",
       " 911.138889,\n",
       " 913.583333,\n",
       " 916.027778,\n",
       " 918.472222,\n",
       " 920.916667,\n",
       " 923.361111,\n",
       " 925.805556,\n",
       " 928.25,\n",
       " 930.694444,\n",
       " 933.138889,\n",
       " 935.583333,\n",
       " 938.027778,\n",
       " 940.472222,\n",
       " 942.916667,\n",
       " 945.361111,\n",
       " 947.805556,\n",
       " 950.25,\n",
       " 952.694444,\n",
       " 955.138889,\n",
       " 957.583333,\n",
       " 960.027778,\n",
       " 962.472222,\n",
       " 964.916667,\n",
       " 967.361111,\n",
       " 969.805556,\n",
       " 972.25,\n",
       " 974.694444,\n",
       " 977.138889,\n",
       " 979.583333,\n",
       " 982.027778,\n",
       " 984.472222,\n",
       " 986.916667,\n",
       " 989.361111,\n",
       " 991.805556,\n",
       " 994.25,\n",
       " 996.694444,\n",
       " 999.138889,\n",
       " 1001.583334,\n",
       " 1004.027778,\n",
       " 1006.472223]"
      ]
     },
     "execution_count": 3,
     "metadata": {},
     "output_type": "execute_result"
    }
   ],
   "source": [
    "import csv\n",
    "file=open(r'C:\\Users\\nishu\\Downloads\\ML Assignment\\RGB and VIS-NIR HSI Data for 90 Rice Seed Varieties\\wavelengths.csv')\n",
    "csvreader = csv.reader(file)\n",
    "wavelength = []\n",
    "for row in csvreader:\n",
    "        wavelength.append(row)\n",
    "wavelength\n",
    "\n",
    "wavelengths=[]\n",
    "for i in range(1,len(wavelength)):\n",
    "    wavelengths.append(float(wavelength[i][1]))\n",
    "wavelengths"
   ]
  },
  {
   "cell_type": "code",
   "execution_count": 35,
   "metadata": {},
   "outputs": [],
   "source": []
  },
  {
   "cell_type": "code",
   "execution_count": null,
   "metadata": {},
   "outputs": [],
   "source": []
  },
  {
   "cell_type": "code",
   "execution_count": null,
   "metadata": {},
   "outputs": [],
   "source": []
  }
 ],
 "metadata": {
  "kernelspec": {
   "display_name": "Python 3",
   "language": "python",
   "name": "python3"
  },
  "language_info": {
   "codemirror_mode": {
    "name": "ipython",
    "version": 3
   },
   "file_extension": ".py",
   "mimetype": "text/x-python",
   "name": "python",
   "nbconvert_exporter": "python",
   "pygments_lexer": "ipython3",
   "version": "3.8.5"
  }
 },
 "nbformat": 4,
 "nbformat_minor": 4
}
